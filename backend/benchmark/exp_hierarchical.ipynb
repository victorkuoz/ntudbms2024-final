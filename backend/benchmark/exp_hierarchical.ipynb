{
 "cells": [
  {
   "cell_type": "code",
   "execution_count": 56,
   "metadata": {},
   "outputs": [],
   "source": [
    "from sklearn.metrics.pairwise import cosine_similarity\n",
    "from sklearn.metrics import silhouette_score\n",
    "from sklearn.cluster import KMeans\n",
    "from unqlite import UnQLite\n",
    "from tqdm import tqdm\n",
    "import numpy as np\n",
    "import statistics\n",
    "import pickle\n",
    "import gdown"
   ]
  },
  {
   "cell_type": "code",
   "execution_count": 57,
   "metadata": {},
   "outputs": [],
   "source": [
    "gdown.download(id=\"1oEQijUkn5QerZ3UvaJ1a5N6G7mbDpjeG\", output=\"audio.db\")"
   ]
  },
  {
   "cell_type": "code",
   "execution_count": 58,
   "metadata": {},
   "outputs": [],
   "source": [
    "def retrive_data():\n",
    "    db, data = UnQLite(\"audio.db\"), []\n",
    "\n",
    "    with db.cursor() as cursor:\n",
    "        for key, value in cursor:\n",
    "            record = pickle.loads(value)\n",
    "            data.append({\n",
    "                \"filename\": key,\n",
    "                \"partition\": \"\",\n",
    "                \"embedding\": pickle.loads(record[\"embedding\"]).tolist() # 2048\n",
    "            })\n",
    "    return data"
   ]
  },
  {
   "cell_type": "code",
   "execution_count": 59,
   "metadata": {},
   "outputs": [],
   "source": [
    "raw_data = retrive_data()"
   ]
  },
  {
   "cell_type": "code",
   "execution_count": 60,
   "metadata": {},
   "outputs": [],
   "source": [
    "NUM_RECORD = 2000\n",
    "EMBEDDING_LEN = 2048\n",
    "\n",
    "KMEANS_FLOOR = 2\n",
    "KMEANS_CEILING = 9\n",
    "MIN_PARTITION_SIZE = 30"
   ]
  },
  {
   "cell_type": "code",
   "execution_count": 61,
   "metadata": {},
   "outputs": [],
   "source": [
    "\n",
    "def adaptive_clustering(data, indices, threshold=0, layer=1):\n",
    "    # partition size is small enough\n",
    "    if len(indices) < MIN_PARTITION_SIZE:\n",
    "        return []\n",
    "\n",
    "    # iterative kmeans\n",
    "    embeddings, scores = [data[idx][\"embedding\"] for idx in indices], []\n",
    "    for n in range(KMEANS_FLOOR, KMEANS_CEILING):\n",
    "        result = KMeans(n_clusters=n, random_state=0, n_init=\"auto\").fit(embeddings)\n",
    "        scores.append(silhouette_score(embeddings, result.labels_))\n",
    "\n",
    "    # check whether need further clutering\n",
    "    max_score, median_score = max(scores), statistics.median(scores)\n",
    "    if max_score < threshold:\n",
    "        return []\n",
    "\n",
    "    # re-clustring\n",
    "    k = scores.index(max_score) + 2\n",
    "    indices_list = [[] for _ in range(k)]\n",
    "    result = KMeans(n_clusters=k, random_state=0, n_init=\"auto\").fit(embeddings)\n",
    "\n",
    "    # concate partition name\n",
    "    for index, label in zip(indices, result.labels_.tolist()):\n",
    "        indices_list[label].append(index)\n",
    "        data[index][\"partition\"] += f\"{str(label)}_\"\n",
    "\n",
    "    # recursive clustering\n",
    "    centroids = []\n",
    "    for indices in indices_list:\n",
    "        centroids.append({\n",
    "            \"embedding\": (np.mean([data[idx][\"embedding\"] for idx in indices], axis=0)).tolist(),\n",
    "            \"nexts\": adaptive_clustering(data, indices, median_score * THRESHOLD_GROTH_RATE, layer + 1)\n",
    "        })\n",
    "\n",
    "    return centroids"
   ]
  },
  {
   "cell_type": "code",
   "execution_count": 62,
   "metadata": {},
   "outputs": [],
   "source": [
    "def get_partition(embedding, centroids):\n",
    "    max_idx, max_score = 0, 0\n",
    "    for idx, centroid in enumerate(centroids):\n",
    "        score = cosine_similarity([embedding],[centroid[\"embedding\"]])\n",
    "        if score > max_score:\n",
    "            max_score = score\n",
    "            max_idx = idx\n",
    "\n",
    "    partition = f\"{max_idx}_\"\n",
    "    if centroids[max_idx][\"nexts\"] != []:\n",
    "        partition += get_partition(embedding, centroids[max_idx][\"nexts\"])\n",
    "\n",
    "    return partition"
   ]
  },
  {
   "cell_type": "code",
   "execution_count": 63,
   "metadata": {},
   "outputs": [],
   "source": [
    "partition_embeddings = []\n",
    "def parse(centroid):\n",
    "    next = centroid[\"nexts\"]\n",
    "    if next == []:\n",
    "        partition_embeddings.append(centroid[\"embedding\"])\n",
    "        return 1\n",
    "\n",
    "    cnt = 0\n",
    "    for next in centroid[\"nexts\"]:\n",
    "        cnt += parse(next)\n",
    "    return cnt"
   ]
  },
  {
   "cell_type": "code",
   "execution_count": 64,
   "metadata": {},
   "outputs": [
    {
     "name": "stdout",
     "output_type": "stream",
     "text": [
      "112\n"
     ]
    },
    {
     "name": "stderr",
     "output_type": "stream",
     "text": [
      "100%|██████████| 2000/2000 [00:24<00:00, 80.02it/s]\n",
      "100%|██████████| 2000/2000 [02:30<00:00, 13.33it/s]\n"
     ]
    }
   ],
   "source": [
    "THRESHOLD_GROTH_RATE = 1\n",
    "centroids = adaptive_clustering(raw_data, range(NUM_RECORD))\n",
    "\n",
    "partition_cnt = 0\n",
    "partition_embeddings = []\n",
    "for centroid in centroids:\n",
    "    partition_cnt += parse(centroid)\n",
    "\n",
    "print(partition_cnt)\n",
    "\n",
    "for record in tqdm(raw_data):\n",
    "    get_partition(record[\"embedding\"], centroids)\n",
    "\n",
    "for record in tqdm(raw_data):\n",
    "    max_idx, max_score = 0, 0\n",
    "    for idx, embedding in enumerate(partition_embeddings):\n",
    "        score = cosine_similarity([record[\"embedding\"]], [embedding])\n",
    "        if score > max_score:\n",
    "            max_score = score\n",
    "            max_idx = idx"
   ]
  },
  {
   "cell_type": "code",
   "execution_count": 65,
   "metadata": {},
   "outputs": [
    {
     "name": "stdout",
     "output_type": "stream",
     "text": [
      "85\n"
     ]
    },
    {
     "name": "stderr",
     "output_type": "stream",
     "text": [
      "100%|██████████| 2000/2000 [00:15<00:00, 127.04it/s]\n",
      "100%|██████████| 2000/2000 [01:28<00:00, 22.66it/s]\n"
     ]
    }
   ],
   "source": [
    "THRESHOLD_GROTH_RATE = 1.2\n",
    "centroids = adaptive_clustering(raw_data, range(NUM_RECORD))\n",
    "\n",
    "partition_cnt = 0\n",
    "partition_embeddings = []\n",
    "for centroid in centroids:\n",
    "    partition_cnt += parse(centroid)\n",
    "\n",
    "print(partition_cnt)\n",
    "\n",
    "for record in tqdm(raw_data):\n",
    "    get_partition(record[\"embedding\"], centroids)\n",
    "\n",
    "for record in tqdm(raw_data):\n",
    "    max_idx, max_score = 0, 0\n",
    "    for idx, embedding in enumerate(partition_embeddings):\n",
    "        score = cosine_similarity([record[\"embedding\"]], [embedding])\n",
    "        if score > max_score:\n",
    "            max_score = score\n",
    "            max_idx = idx"
   ]
  },
  {
   "cell_type": "code",
   "execution_count": 66,
   "metadata": {},
   "outputs": [
    {
     "name": "stdout",
     "output_type": "stream",
     "text": [
      "61\n"
     ]
    },
    {
     "name": "stderr",
     "output_type": "stream",
     "text": [
      "100%|██████████| 2000/2000 [00:15<00:00, 131.12it/s]\n",
      "100%|██████████| 2000/2000 [01:03<00:00, 31.57it/s]\n"
     ]
    }
   ],
   "source": [
    "THRESHOLD_GROTH_RATE = 1.5\n",
    "centroids = adaptive_clustering(raw_data, range(NUM_RECORD))\n",
    "\n",
    "partition_cnt = 0\n",
    "partition_embeddings = []\n",
    "for centroid in centroids:\n",
    "    partition_cnt += parse(centroid)\n",
    "\n",
    "print(partition_cnt)\n",
    "\n",
    "for record in tqdm(raw_data):\n",
    "    get_partition(record[\"embedding\"], centroids)\n",
    "\n",
    "for record in tqdm(raw_data):\n",
    "    max_idx, max_score = 0, 0\n",
    "    for idx, embedding in enumerate(partition_embeddings):\n",
    "        score = cosine_similarity([record[\"embedding\"]], [embedding])\n",
    "        if score > max_score:\n",
    "            max_score = score\n",
    "            max_idx = idx"
   ]
  },
  {
   "cell_type": "code",
   "execution_count": 67,
   "metadata": {},
   "outputs": [
    {
     "name": "stdout",
     "output_type": "stream",
     "text": [
      "36\n"
     ]
    },
    {
     "name": "stderr",
     "output_type": "stream",
     "text": [
      "100%|██████████| 2000/2000 [00:11<00:00, 169.20it/s]\n",
      "100%|██████████| 2000/2000 [00:36<00:00, 54.78it/s]\n"
     ]
    }
   ],
   "source": [
    "THRESHOLD_GROTH_RATE = 1.8\n",
    "centroids = adaptive_clustering(raw_data, range(NUM_RECORD))\n",
    "\n",
    "partition_cnt = 0\n",
    "partition_embeddings = []\n",
    "for centroid in centroids:\n",
    "    partition_cnt += parse(centroid)\n",
    "\n",
    "print(partition_cnt)\n",
    "\n",
    "for record in tqdm(raw_data):\n",
    "    get_partition(record[\"embedding\"], centroids)\n",
    "\n",
    "for record in tqdm(raw_data):\n",
    "    max_idx, max_score = 0, 0\n",
    "    for idx, embedding in enumerate(partition_embeddings):\n",
    "        score = cosine_similarity([record[\"embedding\"]], [embedding])\n",
    "        if score > max_score:\n",
    "            max_score = score\n",
    "            max_idx = idx"
   ]
  },
  {
   "cell_type": "code",
   "execution_count": 68,
   "metadata": {},
   "outputs": [
    {
     "name": "stdout",
     "output_type": "stream",
     "text": [
      "36\n"
     ]
    },
    {
     "name": "stderr",
     "output_type": "stream",
     "text": [
      "100%|██████████| 2000/2000 [00:12<00:00, 160.25it/s]\n",
      "100%|██████████| 2000/2000 [00:36<00:00, 54.40it/s]\n"
     ]
    }
   ],
   "source": [
    "THRESHOLD_GROTH_RATE = 2\n",
    "centroids = adaptive_clustering(raw_data, range(NUM_RECORD))\n",
    "\n",
    "partition_cnt = 0\n",
    "partition_embeddings = []\n",
    "for centroid in centroids:\n",
    "    partition_cnt += parse(centroid)\n",
    "\n",
    "print(partition_cnt)\n",
    "\n",
    "for record in tqdm(raw_data):\n",
    "    get_partition(record[\"embedding\"], centroids)\n",
    "\n",
    "for record in tqdm(raw_data):\n",
    "    max_idx, max_score = 0, 0\n",
    "    for idx, embedding in enumerate(partition_embeddings):\n",
    "        score = cosine_similarity([record[\"embedding\"]], [embedding])\n",
    "        if score > max_score:\n",
    "            max_score = score\n",
    "            max_idx = idx"
   ]
  }
 ],
 "metadata": {
  "kernelspec": {
   "display_name": "bts",
   "language": "python",
   "name": "python3"
  },
  "language_info": {
   "codemirror_mode": {
    "name": "ipython",
    "version": 3
   },
   "file_extension": ".py",
   "mimetype": "text/x-python",
   "name": "python",
   "nbconvert_exporter": "python",
   "pygments_lexer": "ipython3",
   "version": "3.9.19"
  }
 },
 "nbformat": 4,
 "nbformat_minor": 2
}
