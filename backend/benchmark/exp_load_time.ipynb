{
 "cells": [
  {
   "cell_type": "code",
   "execution_count": 18,
   "metadata": {},
   "outputs": [],
   "source": [
    "from pymilvus import CollectionSchema, FieldSchema, DataType, MilvusClient, DataType\n",
    "from time import time\n",
    "import numpy as np\n",
    "import random\n",
    "import string\n",
    "from tqdm import tqdm\n",
    "\n",
    "client = MilvusClient(\n",
    "    uri=\"http://140.112.28.129:19530\",\n",
    "    db_name=\"default\"\n",
    ")"
   ]
  },
  {
   "cell_type": "code",
   "execution_count": 2,
   "metadata": {},
   "outputs": [],
   "source": [
    "EMBEDDING_LEN = 2048\n",
    "schema = CollectionSchema(fields=[\n",
    "    FieldSchema(name='filename', dtype=DataType.VARCHAR, is_primary =True, max_length=128),\n",
    "    FieldSchema(name='embedding', dtype=DataType.FLOAT_VECTOR, dim=EMBEDDING_LEN),\n",
    "], auto_id=False)\n",
    "\n",
    "index_params = client.prepare_index_params()\n",
    "index_params.add_index(\n",
    "    field_name=\"embedding\", \n",
    "    index_type=\"IVF_FLAT\",\n",
    "    metric_type=\"COSINE\",\n",
    "    params={\"nlist\": 1}\n",
    ")"
   ]
  },
  {
   "cell_type": "code",
   "execution_count": 12,
   "metadata": {},
   "outputs": [],
   "source": [
    "client.drop_collection(collection_name=\"collection\")\n",
    "client.create_collection(\n",
    "    collection_name=\"collection\",\n",
    "    schema=schema,\n",
    "    index_params=index_params\n",
    ")"
   ]
  },
  {
   "cell_type": "code",
   "execution_count": 13,
   "metadata": {},
   "outputs": [],
   "source": [
    "\n",
    "\n",
    "def insert_random_data(partition_name, num, collection_name = \"collection\"):\n",
    "    for _ in tqdm(range(num)):\n",
    "        random_vector = np.random.rand(EMBEDDING_LEN)\n",
    "        random_filename = ''.join(random.choice(string.ascii_letters) for x in range(20))\n",
    "        \n",
    "        client.insert(\n",
    "            collection_name=collection_name,\n",
    "            data = [{\n",
    "                \"filename\": random_filename,\n",
    "                \"embedding\": random_vector\n",
    "            }],\n",
    "            partition_name=partition_name\n",
    "        )"
   ]
  },
  {
   "cell_type": "code",
   "execution_count": 14,
   "metadata": {},
   "outputs": [
    {
     "name": "stderr",
     "output_type": "stream",
     "text": [
      "100%|██████████| 100/100 [00:00<00:00, 103.89it/s]\n",
      "100%|██████████| 2000/2000 [00:20<00:00, 97.95it/s] \n",
      "100%|██████████| 5000/5000 [00:44<00:00, 113.36it/s]\n",
      "100%|██████████| 10000/10000 [01:29<00:00, 112.34it/s]\n"
     ]
    }
   ],
   "source": [
    "sizes = [100, 2000, 5000, 10000]\n",
    "\n",
    "for size in sizes:\n",
    "    client.create_partition(\n",
    "        collection_name=\"collection\", \n",
    "        partition_name= f\"partition_{size}\"\n",
    "    )\n",
    "    insert_random_data(f\"partition_{size}\", size)"
   ]
  },
  {
   "cell_type": "code",
   "execution_count": null,
   "metadata": {},
   "outputs": [],
   "source": [
    "# from time import time\n",
    "\n",
    "# client.release_partitions(\n",
    "#     collection_name=\"collection\",\n",
    "#     partition_names=[\"partition_large\"]\n",
    "# )\n",
    "\n",
    "# t = time()  \n",
    "# client.load_partitions(\n",
    "#     collection_name=\"collection\",\n",
    "#     partition_names=[\"partition_large\"]\n",
    "# )\n",
    "# print(time() - t)\n",
    "\n"
   ]
  },
  {
   "cell_type": "code",
   "execution_count": 15,
   "metadata": {},
   "outputs": [],
   "source": [
    "from pymilvus import (\n",
    "    connections, utility, DataType, FieldSchema, CollectionSchema, Collection, Partition\n",
    ")\n",
    "connections.connect(db_name='default', host='140.112.28.129', port='19530')\n",
    "\n",
    "dic = {}\n",
    "for size in sizes:\n",
    "    dic[size] = Partition(collection=\"collection\", name=f\"partition_{size}\")"
   ]
  },
  {
   "cell_type": "code",
   "execution_count": 23,
   "metadata": {},
   "outputs": [
    {
     "data": {
      "text/plain": [
       "[[], [], [], []]"
      ]
     },
     "execution_count": 23,
     "metadata": {},
     "output_type": "execute_result"
    }
   ],
   "source": [
    "times = [[] for _ in range(4)]\n",
    "times"
   ]
  },
  {
   "cell_type": "code",
   "execution_count": 27,
   "metadata": {},
   "outputs": [],
   "source": [
    "time_dic = {}\n",
    "for size in sizes:\n",
    "    time_dic[size] = []\n",
    "\n",
    "for _ in range(10):\n",
    "    for i, (size, partition) in enumerate(dic.items()):\n",
    "        t = time()\n",
    "        partition.load()\n",
    "        partition.flush()\n",
    "        partition.release()\n",
    "        partition.flush()\n",
    "        due = time() - t\n",
    "        time_dic[size].append(due)\n",
    "\n",
    "for size, times in time_dic.items():\n",
    "    print(f\"{size}: {sum(times) / 10}\")"
   ]
  },
  {
   "cell_type": "code",
   "execution_count": 30,
   "metadata": {},
   "outputs": [
    {
     "name": "stdout",
     "output_type": "stream",
     "text": [
      "100: 3.9702313423156737\n",
      "2000: 4.011171817779541\n",
      "5000: 4.011175680160522\n",
      "10000: 3.988883113861084\n"
     ]
    }
   ],
   "source": []
  },
  {
   "cell_type": "code",
   "execution_count": 38,
   "metadata": {},
   "outputs": [
    {
     "name": "stdout",
     "output_type": "stream",
     "text": [
      "100: 0.005907773971557617\n",
      "2000: 0.007582974433898926\n",
      "5000: 0.010500383377075196\n",
      "10000: 0.013728451728820801\n"
     ]
    }
   ],
   "source": [
    "param = {\n",
    "    \"metric_type\": \"COSINE\",\n",
    "    \"params\": {\n",
    "        \"nprobe\": 10000,\n",
    "        \"radius\": 1,\n",
    "        \"range_filter\": 3,\n",
    "        \"max_empty_result_buckets\":65536\n",
    "    }\n",
    "}\n",
    "\n",
    "time_dic = {}\n",
    "for size in sizes:\n",
    "    time_dic[size] = []\n",
    "\n",
    "for i, (size, partition) in enumerate(dic.items()):\n",
    "    t = time()\n",
    "    partition.load()\n",
    "\n",
    "for _ in range(10):\n",
    "    for i, (size, partition) in enumerate(dic.items()):\n",
    "        t = time()\n",
    "        res = partition.search(\n",
    "            data=[np.random.rand(EMBEDDING_LEN)],\n",
    "            anns_field=\"embedding\",\n",
    "            param=param,\n",
    "            batch_size=1,\n",
    "            limit=1,\n",
    "            output_fields=[\"filename\", \"embedding\"]\n",
    "        )\n",
    "        due = time() - t\n",
    "        time_dic[size].append(due)\n",
    "\n",
    "for size, times in time_dic.items():\n",
    "    print(f\"{size}: {sum(times) / 10}\")"
   ]
  }
 ],
 "metadata": {
  "kernelspec": {
   "display_name": "base",
   "language": "python",
   "name": "python3"
  },
  "language_info": {
   "codemirror_mode": {
    "name": "ipython",
    "version": 3
   },
   "file_extension": ".py",
   "mimetype": "text/x-python",
   "name": "python",
   "nbconvert_exporter": "python",
   "pygments_lexer": "ipython3",
   "version": "3.11.5"
  }
 },
 "nbformat": 4,
 "nbformat_minor": 2
}
