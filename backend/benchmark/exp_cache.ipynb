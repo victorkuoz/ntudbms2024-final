{
 "cells": [
  {
   "cell_type": "code",
   "execution_count": 5,
   "metadata": {},
   "outputs": [],
   "source": [
    "EMBEDDING_LEN = 2048"
   ]
  },
  {
   "cell_type": "code",
   "execution_count": 62,
   "metadata": {},
   "outputs": [],
   "source": [
    "from pymilvus import CollectionSchema, FieldSchema, DataType, MilvusClient, DataType\n",
    "import numpy as np\n",
    "import random\n",
    "import string\n",
    "from pymilvus import (\n",
    "    connections, utility, DataType, FieldSchema, CollectionSchema, Collection, Partition\n",
    ")\n",
    "from time import time, sleep\n",
    "from pymilvus import CollectionSchema, FieldSchema, DataType, MilvusClient, DataType\n",
    "from tqdm import tqdm"
   ]
  },
  {
   "cell_type": "code",
   "execution_count": 63,
   "metadata": {},
   "outputs": [],
   "source": [
    "client = MilvusClient(\n",
    "    uri=\"http://140.112.28.129:19530\",\n",
    "    db_name=\"default\"\n",
    ")"
   ]
  },
  {
   "cell_type": "code",
   "execution_count": 7,
   "metadata": {},
   "outputs": [],
   "source": [
    "collection_name = \"collection\"\n",
    "schema = CollectionSchema(fields=[\n",
    "    FieldSchema(name='filename', dtype=DataType.VARCHAR, is_primary =True, max_length=128),\n",
    "    FieldSchema(name='embedding', dtype=DataType.FLOAT_VECTOR, dim=EMBEDDING_LEN),\n",
    "], auto_id=False)\n",
    "\n",
    "index_params = client.prepare_index_params()\n",
    "index_params.add_index(\n",
    "    field_name=\"embedding\", \n",
    "    index_type=\"IVF_FLAT\",\n",
    "    metric_type=\"COSINE\",\n",
    "    params={\"nlist\": 1}\n",
    ")\n",
    "client.drop_collection(collection_name=\"collection\")\n",
    "client.create_collection(\n",
    "    collection_name=collection_name,\n",
    "    schema=schema,\n",
    "    index_params=index_params\n",
    ")"
   ]
  },
  {
   "cell_type": "code",
   "execution_count": 8,
   "metadata": {},
   "outputs": [],
   "source": [
    "def insert_random_data(partition_name, num, collection_name = \"collection\"):\n",
    "    for _ in range(num):\n",
    "        random_vector = np.random.rand(EMBEDDING_LEN)\n",
    "        random_filename = ''.join(random.choice(string.ascii_letters) for x in range(20))\n",
    "        \n",
    "        client.insert(\n",
    "            collection_name=collection_name,\n",
    "            data = [{\n",
    "                \"filename\": random_filename,\n",
    "                \"embedding\": random_vector\n",
    "            }],\n",
    "            partition_name=partition_name\n",
    "        )"
   ]
  },
  {
   "cell_type": "code",
   "execution_count": 9,
   "metadata": {},
   "outputs": [],
   "source": [
    "partition_num = 50\n",
    "partition_size = 50\n",
    "\n",
    "for i in range(partition_num):\n",
    "    partition_name=f\"partition_{i}\"\n",
    "    client.create_partition(\n",
    "        collection_name=collection_name, \n",
    "        partition_name=partition_name\n",
    "    )\n",
    "    insert_random_data(partition_name=partition_name, num = partition_size)\n",
    "    "
   ]
  },
  {
   "cell_type": "code",
   "execution_count": 64,
   "metadata": {},
   "outputs": [],
   "source": [
    "connections.connect(db_name='default', host='140.112.28.129', port='19530')\n",
    "\n",
    "def load_partion(partition_name, collection_name = \"collection\"):\n",
    "    print(f\"load {partition_name}\")\n",
    "    partition = Partition(collection=collection_name, name=partition_name)\n",
    "    partition.load()\n",
    "    \n",
    "def release_partion(partition_name, collection_name = \"collection\"):\n",
    "    print(f\"release {partition_name}\")\n",
    "    partition = Partition(collection=collection_name, name=partition_name)\n",
    "    partition.release()\n",
    "\n",
    "def release_all_partition(partition_num = partition_num):\n",
    "    for i in range(partition_num):\n",
    "        partition_name=f\"partition_{i}\"\n",
    "        partition = Partition(collection=collection_name, name=partition_name)\n",
    "        partition.release()\n",
    "    print(f\"all partition released\")"
   ]
  },
  {
   "cell_type": "code",
   "execution_count": 77,
   "metadata": {},
   "outputs": [],
   "source": [
    "# Cash\n",
    "\n",
    "class PartitionNode:\n",
    "    def __init__(self, partition_name: str):\n",
    "        self.partition_name = partition_name\n",
    "        self.prev = None\n",
    "        self.next = None\n",
    "\n",
    "class DLL:\n",
    "    def __init__(self):\n",
    "        self.dummy_start = PartitionNode(\"start\")\n",
    "        self.dummy_end = PartitionNode(\"end\")\n",
    "        self.dummy_start.next = self.dummy_end\n",
    "        self.dummy_end.prev = self.dummy_start\n",
    "\n",
    "    def appendleft(self, node: PartitionNode):\n",
    "        left, right = self.dummy_start, self.dummy_start.next\n",
    "        node.next = right\n",
    "        right.prev = node\n",
    "        left.next = node\n",
    "        node.prev = left\n",
    "\n",
    "    def remove(self, node: PartitionNode):\n",
    "        left, right = node.prev, node.next\n",
    "        left.next = right\n",
    "        right.prev = left\n",
    "\n",
    "    def move_to_start(self, node: PartitionNode):\n",
    "        self.remove(node)\n",
    "        self.appendleft(node)\n",
    "\n",
    "    def pop(self):\n",
    "        self.remove(self.dummy_end.prev)\n",
    "    \n",
    "    def back(self) -> string:\n",
    "        return self.dummy_end.prev.partition_name\n",
    "    \n",
    "    def peek(self):\n",
    "        return self.dummy_end.prev.partition_name\n",
    "\n",
    "class LRUCache:\n",
    "    def __init__(self, capacity):\n",
    "        self.capacity = capacity\n",
    "        self.cache = dict()\n",
    "        self.dll = DLL()\n",
    "        self.__hit = 0\n",
    "        self.__miss = 0\n",
    "\n",
    "    def put(self, partition_name: string) -> None:\n",
    "        if partition_name in self.cache:\n",
    "            node = self.cache[partition_name]\n",
    "            self.dll.remove(node)\n",
    "            self.__hit += 1\n",
    "        else:\n",
    "            node = PartitionNode(partition_name)\n",
    "            self.cache[partition_name] = node\n",
    "            self.__miss += 1\n",
    "            load_partion(partition_name)\n",
    "        \n",
    "        self.dll.appendleft(node)\n",
    "        \n",
    "        if len(self.cache) > self.capacity:\n",
    "            back_name = self.dll.back()\n",
    "            self.cache.pop(back_name)\n",
    "            self.dll.pop()\n",
    "            release_partion(partition_name)\n",
    "    \n",
    "    def hit_rate(self):\n",
    "        return (self.__hit / (self.__hit + self.__miss))"
   ]
  },
  {
   "cell_type": "code",
   "execution_count": 78,
   "metadata": {},
   "outputs": [],
   "source": [
    "CACHE_CAPACITY = 10"
   ]
  },
  {
   "cell_type": "code",
   "execution_count": 84,
   "metadata": {},
   "outputs": [
    {
     "name": "stdout",
     "output_type": "stream",
     "text": [
      "all partition released\n"
     ]
    },
    {
     "name": "stderr",
     "output_type": "stream",
     "text": [
      "100%|██████████| 10/10 [00:09<00:00,  1.01it/s]\n",
      "100%|██████████| 100/100 [00:11<00:00,  8.86it/s]"
     ]
    },
    {
     "name": "stdout",
     "output_type": "stream",
     "text": [
      "11.296098709106445\n",
      "hit rate = 0.7727272727272727\n"
     ]
    },
    {
     "name": "stderr",
     "output_type": "stream",
     "text": [
      "\n"
     ]
    }
   ],
   "source": [
    "cache = LRUCache(CACHE_CAPACITY)\n",
    "num_of_access = 100\n",
    "click_more_percentage = 0.8\n",
    "\n",
    "partition_list = [random.randint(0, 50) for _ in range(num_of_access)]\n",
    "\n",
    "release_all_partition()\n",
    "for i in tqdm(range(10)):\n",
    "    cache.put(partition_name= f\"partition_{i}\")\n",
    "    \n",
    "t = time()\n",
    "for i, partition_idx in tqdm(enumerate(partition_list), total=len(partition_list)):\n",
    "    if random.random() < click_more_percentage and i >= 1:\n",
    "        partition_idx = partition_list[i - 1]\n",
    "        partition_list[i] = partition_list[i - 1]\n",
    "    cache.put(partition_name= f\"partition_{partition_idx}\")\n",
    "print(time() - t)\n",
    "\n",
    "print(f\"hit rate = {cache.hit_rate()}\")\n",
    "\n",
    "# release_all_partition()\n",
    "# t = time()\n",
    "# for partition_idx in tqdm(partition_list):\n",
    "#     load_partion(f\"partition_{partition_idx}\")\n",
    "#     release_partion(f\"partition_{partition_idx}\")\n",
    "# print(time() - t)"
   ]
  },
  {
   "cell_type": "markdown",
   "metadata": {},
   "source": [
    "w/o cache\n",
    "all partition released\n",
    "99.68985271453857\n",
    "hit rate = x\n",
    "\n",
    "percentage = 0\n",
    "71.07469701766968\n",
    "hit rate = 0.19090909090909092\n",
    "\n",
    "percentage = 0.2\n",
    "54.940876960754395\n",
    "hit rate = 0.3181818181818182\n",
    "\n",
    "percentage = 0.4\n",
    "36.95194172859192\n",
    "hit rate = 0.5\n",
    "\n",
    "percentage = 0.6\n",
    "27.089735746383667\n",
    "hit rate = 0.6\n",
    "\n",
    "percentage = 0.8\n",
    "11.296098709106445\n",
    "hit rate = 0.7727272727272727"
   ]
  },
  {
   "cell_type": "code",
   "execution_count": 75,
   "metadata": {},
   "outputs": [
    {
     "name": "stdout",
     "output_type": "stream",
     "text": [
      "all partition released\n"
     ]
    },
    {
     "name": "stderr",
     "output_type": "stream",
     "text": [
      "100%|██████████| 10/10 [00:09<00:00,  1.06it/s]\n"
     ]
    }
   ],
   "source": [
    "release_all_partition()\n",
    "for i in tqdm(range(10)):\n",
    "    cache.put(partition_name= f\"partition_{i}\")"
   ]
  },
  {
   "cell_type": "code",
   "execution_count": 76,
   "metadata": {},
   "outputs": [
    {
     "name": "stderr",
     "output_type": "stream",
     "text": [
      "100%|██████████| 10/10 [00:10<00:00,  1.01s/it]\n"
     ]
    }
   ],
   "source": [
    "for i in tqdm(range(10)):\n",
    "    cache.put(partition_name= f\"partition_{i}\")"
   ]
  }
 ],
 "metadata": {
  "kernelspec": {
   "display_name": "base",
   "language": "python",
   "name": "python3"
  },
  "language_info": {
   "codemirror_mode": {
    "name": "ipython",
    "version": 3
   },
   "file_extension": ".py",
   "mimetype": "text/x-python",
   "name": "python",
   "nbconvert_exporter": "python",
   "pygments_lexer": "ipython3",
   "version": "3.11.5"
  }
 },
 "nbformat": 4,
 "nbformat_minor": 2
}
